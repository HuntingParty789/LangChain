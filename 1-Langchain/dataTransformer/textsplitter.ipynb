{
 "cells": [
  {
   "cell_type": "code",
   "execution_count": 1,
   "id": "bff677d8",
   "metadata": {},
   "outputs": [
    {
     "data": {
      "text/plain": [
       "[Document(metadata={'producer': 'mPDF 6.0', 'creator': 'PyPDF', 'creationdate': \"20240311155038+00'00'\", 'moddate': \"20240311155038+00'00'\", 'source': 'C:\\\\LangChain\\\\2101020336 (1).pdf', 'total_pages': 5, 'page': 0, 'page_label': '1'}, page_content='C. V. Raman Global University , Bhubaneswar, Odisha, India.\\nwww.cgu-odisha.ac.in.\\n(Formerly C. V. Raman College of Engineering)\\nGRADE SHEET\\nName of the Degree : BTECH\\nSemester : 1st\\nName of the Student : VIDYANSHU KUMAR SINHA\\nBranch/Stream : COMPUTER SCIENCE & ENGINEERING _ARTIFICIAL\\nINTELLIGENCE & MACHINE LEARNING\\nRoll No./Registration No. : 2101020336\\nSl. No. Subject Code Subject Credit Grade\\n1 MTH21101 MATHEMATICS-I 3 B\\n2 UGE23801 DESIGN THINKING AND PROBLEM SOLVING 2 A\\n3 CSE23201 PROGRAMMING FOR PROBLEM SOLVING 4 E\\n4 EEE23201\\nINTRODUCTION TO ELECTRICAL AND ELECTRONICS\\nENGINEERING 5 B\\n5 MHE23220 ENGINEERING GRAPHICS 4 B\\n6 HSS22001 PROFESSIONAL COMMUNICATION 3 E\\nTotal Credits : 21 SGPA : 7.76\\nCGPA : 7.76\\nNote :\\n1. The Result is Provisional.\\n2. The students interested for retotalling/rechecking only are required to apply on or before --/--/---- positively by paying\\nRs. 200/- per answer script to the University.\\n3. Students interested for retotalling/rechecking along with photocopy (ies) of answer script are required to apply on or\\nbefore --/--/---- positively by paying Rs 260/- per answer script to the University..\\n4. As per the provision of the University Grading System \"M\" denotes MALPRACTICE (Grade Point 0), \"S\" denotes\\nABSENT (Grade Point 0), \"FR\" denotes FAIL (Permitted to repeat End Semester Examination, Grade Point 0) and \"XX\"\\ndenotes DETAINED.\\n5. The CPI shown for the subjects displayed in this page.\\n6. This is system generated document of CGU and it does not need attestation unless there is any specific official\\nrequirement.\\n7. In case of any other grievance in the result,the students may contact: coe@cgu-odisha.ac.in.\\nDisclaimer :\\nThe results published are provisional and subject to change after post publication scrutiny,the institute is not\\nresponsible for any inadvertent error that may have crept into the results being displayed.\\nCopyright © 2023. All Rights Reserved with CGU, BBSR, Odisha,India and https://www.edusols.com/'),\n",
       " Document(metadata={'producer': 'mPDF 6.0', 'creator': 'PyPDF', 'creationdate': \"20240311155038+00'00'\", 'moddate': \"20240311155038+00'00'\", 'source': 'C:\\\\LangChain\\\\2101020336 (1).pdf', 'total_pages': 5, 'page': 1, 'page_label': '2'}, page_content='C. V. Raman Global University , Bhubaneswar, Odisha, India.\\nwww.cgu-odisha.ac.in.\\n(Formerly C. V. Raman College of Engineering)\\nGRADE SHEET\\nName of the Degree : BTECH\\nSemester : 2nd\\nName of the Student : VIDYANSHU KUMAR SINHA\\nBranch/Stream : COMPUTER SCIENCE & ENGINEERING _ARTIFICIAL\\nINTELLIGENCE & MACHINE LEARNING\\nRoll No./Registration No. : 2101020336\\nSl. No. Subject Code Subject Credit Grade\\n1 MTH21102 MATHEMATICS-II 3 B\\n2 HSS21001 ENGINEERING ECONOMICS & COSTING 2 A\\n3 PHY23101 PHYSICS 5 A\\n4 UGE23802\\nINTELLECTUAL PROPERTY AND\\nENTREPRENEURSHIP 2 A\\n5 HSS22002\\nENGLISH FOR SCIENCE,ENGINEERING &\\nTECHNOLOGY 3 A\\n6 CSE23202 PYTHON PROGRAMMING 5 A\\n7 MHE23210 INTRODUCTION TO MECHANICAL ENGINEERING 5 C\\nTotal Credits : 25 SGPA : 7.48\\nCGPA : 7.61\\nNote :\\n1. The Result is Provisional.\\n2. The students interested for retotalling/rechecking only are required to apply on or before --/--/---- positively by paying\\nRs. 200/- per answer script to the University.\\n3. Students interested for retotalling/rechecking along with photocopy (ies) of answer script are required to apply on or\\nbefore --/--/---- positively by paying Rs 260/- per answer script to the University..\\n4. As per the provision of the University Grading System \"M\" denotes MALPRACTICE (Grade Point 0), \"S\" denotes\\nABSENT (Grade Point 0), \"FR\" denotes FAIL (Permitted to repeat End Semester Examination, Grade Point 0) and \"XX\"\\ndenotes DETAINED.\\n5. The CPI shown for the subjects displayed in this page.\\n6. This is system generated document of CGU and it does not need attestation unless there is any specific official\\nrequirement.\\n7. In case of any other grievance in the result,the students may contact: coe@cgu-odisha.ac.in.\\nDisclaimer :\\nThe results published are provisional and subject to change after post publication scrutiny,the institute is not\\nresponsible for any inadvertent error that may have crept into the results being displayed.\\nCopyright © 2023. All Rights Reserved with CGU, BBSR, Odisha,India and https://www.edusols.com/'),\n",
       " Document(metadata={'producer': 'mPDF 6.0', 'creator': 'PyPDF', 'creationdate': \"20240311155038+00'00'\", 'moddate': \"20240311155038+00'00'\", 'source': 'C:\\\\LangChain\\\\2101020336 (1).pdf', 'total_pages': 5, 'page': 2, 'page_label': '3'}, page_content='C. V. Raman Global University , Bhubaneswar, Odisha, India.\\nwww.cgu-odisha.ac.in.\\n(Formerly C. V. Raman College of Engineering)\\nGRADE SHEET\\nName of the Degree : BTECH\\nSemester : 3rd\\nName of the Student : VIDYANSHU KUMAR SINHA\\nBranch/Stream : COMPUTER SCIENCE & ENGINEERING _ARTIFICIAL\\nINTELLIGENCE & MACHINE LEARNING\\nRoll No./Registration No. : 2101020336\\nSl. No. Subject Code Subject Credit Grade\\n1 CSE21303 PROGRAMMING USING C++ 2 D\\n2 ECE21201 SWITCHING CIRCUIT & LOGIC DESIGN 3 B\\n3 MTH21105 DISCRETE MATHEMATICS 3 D\\n4 UGE21102 EMERGING MATERIAL AND IT’S APPLICATIONS. 2 E\\n5 SDE23737 CCNA-I 2 O\\n6 CSE23305 DATA COMMUNICATION & COMPUTER NETWORK 5 B\\n7 CSE23304 DATA STRUCTURES 5 D\\nTotal Credits : 22 SGPA : 6.55\\nCGPA : 7.26\\nNote :\\n1. The Result is Provisional.\\n2. The students interested for retotalling/rechecking only are required to apply on or before --/--/---- positively by paying\\nRs. 200/- per answer script to the University.\\n3. Students interested for retotalling/rechecking along with photocopy (ies) of answer script are required to apply on or\\nbefore --/--/---- positively by paying Rs 260/- per answer script to the University..\\n4. As per the provision of the University Grading System \"M\" denotes MALPRACTICE (Grade Point 0), \"S\" denotes\\nABSENT (Grade Point 0), \"FR\" denotes FAIL (Permitted to repeat End Semester Examination, Grade Point 0) and \"XX\"\\ndenotes DETAINED.\\n5. The CPI shown for the subjects displayed in this page.\\n6. This is system generated document of CGU and it does not need attestation unless there is any specific official\\nrequirement.\\n7. In case of any other grievance in the result,the students may contact: coe@cgu-odisha.ac.in.\\nDisclaimer :\\nThe results published are provisional and subject to change after post publication scrutiny,the institute is not\\nresponsible for any inadvertent error that may have crept into the results being displayed.\\nCopyright © 2023. All Rights Reserved with CGU, BBSR, Odisha,India and https://www.edusols.com/'),\n",
       " Document(metadata={'producer': 'mPDF 6.0', 'creator': 'PyPDF', 'creationdate': \"20240311155038+00'00'\", 'moddate': \"20240311155038+00'00'\", 'source': 'C:\\\\LangChain\\\\2101020336 (1).pdf', 'total_pages': 5, 'page': 3, 'page_label': '4'}, page_content='C. V. Raman Global University , Bhubaneswar, Odisha, India.\\nwww.cgu-odisha.ac.in.\\n(Formerly C. V. Raman College of Engineering)\\nGRADE SHEET\\nName of the Degree : BTECH\\nSemester : 4th\\nName of the Student : VIDYANSHU KUMAR SINHA\\nBranch/Stream : COMPUTER SCIENCE & ENGINEERING _ARTIFICIAL\\nINTELLIGENCE & MACHINE LEARNING\\nRoll No./Registration No. : 2101020336\\nSl. No. Subject Code Subject Credit Grade\\n1 CSE21308 COMPUTER ORGANIZATION 3 C\\n2 UGE21101 LIVING BIOLOGY AND ENVIRONMENTAL SCIENCE 2 B\\n3 SDE23738 CCNA-II 2 E\\n4 CSE23307 DESIGN & ANALYSIS OF ALGORITHM 5 B\\n5 CSE23309 OBJECT ORIENTED PROGRAMMING USING JAVA 5 B\\n6 CSE23306 DATABASE ENGINEERING 5 A\\nTotal Credits : 22 SGPA : 7.27\\nCGPA : 7.27\\nNote :\\n1. The Result is Provisional.\\n2. The students interested for retotalling/rechecking only are required to apply on or before --/--/---- positively by paying\\nRs. 200/- per answer script to the University.\\n3. Students interested for retotalling/rechecking along with photocopy (ies) of answer script are required to apply on or\\nbefore --/--/---- positively by paying Rs 260/- per answer script to the University..\\n4. As per the provision of the University Grading System \"M\" denotes MALPRACTICE (Grade Point 0), \"S\" denotes\\nABSENT (Grade Point 0), \"FR\" denotes FAIL (Permitted to repeat End Semester Examination, Grade Point 0) and \"XX\"\\ndenotes DETAINED.\\n5. The CPI shown for the subjects displayed in this page.\\n6. This is system generated document of CGU and it does not need attestation unless there is any specific official\\nrequirement.\\n7. In case of any other grievance in the result,the students may contact: coe@cgu-odisha.ac.in.\\nDisclaimer :\\nThe results published are provisional and subject to change after post publication scrutiny,the institute is not\\nresponsible for any inadvertent error that may have crept into the results being displayed.\\nCopyright © 2023. All Rights Reserved with CGU, BBSR, Odisha,India and https://www.edusols.com/'),\n",
       " Document(metadata={'producer': 'mPDF 6.0', 'creator': 'PyPDF', 'creationdate': \"20240311155038+00'00'\", 'moddate': \"20240311155038+00'00'\", 'source': 'C:\\\\LangChain\\\\2101020336 (1).pdf', 'total_pages': 5, 'page': 4, 'page_label': '5'}, page_content='C. V. Raman Global University , Bhubaneswar, Odisha, India.\\nwww.cgu-odisha.ac.in.\\n(Formerly C. V. Raman College of Engineering)\\nGRADE SHEET\\nName of the Degree : BTECH\\nSemester : 5th\\nName of the Student : VIDYANSHU KUMAR SINHA\\nBranch/Stream : COMPUTER SCIENCE & ENGINEERING _ARTIFICIAL\\nINTELLIGENCE & MACHINE LEARNING\\nRoll No./Registration No. : 2101020336\\nSl. No. Subject Code Subject Credit Grade\\n1 CSE21317 SOFTWARE ENGINEERING & AGILE METHODOLOGY 3 A\\n2 UGE23811 ENVIRONMENTAL STUDIES 1 E\\n3 CSE23317 MACHINE LEARNING 5 A\\n4 CSE23312 OPERATING SYSTEM 5 A\\n5 CSE23440 CRYPTOGRAPHY & NETWORK SECURITY 5 B\\n6 SDE23761 UX DESIGN 2 S\\nTotal Credits : 21 SGPA : 7.05\\nCGPA : 7.76\\nNote :\\n1. The Result is Provisional.\\n2. The students interested for retotalling/rechecking only are required to apply on or before --/--/---- positively by paying\\nRs. 200/- per answer script to the University.\\n3. Students interested for retotalling/rechecking along with photocopy (ies) of answer script are required to apply on or\\nbefore --/--/---- positively by paying Rs 260/- per answer script to the University..\\n4. As per the provision of the University Grading System \"M\" denotes MALPRACTICE (Grade Point 0), \"S\" denotes\\nABSENT (Grade Point 0), \"FR\" denotes FAIL (Permitted to repeat End Semester Examination, Grade Point 0) and \"XX\"\\ndenotes DETAINED.\\n5. The CPI shown for the subjects displayed in this page.\\n6. This is system generated document of CGU and it does not need attestation unless there is any specific official\\nrequirement.\\n7. In case of any other grievance in the result,the students may contact: coe@cgu-odisha.ac.in.\\nDisclaimer :\\nThe results published are provisional and subject to change after post publication scrutiny,the institute is not\\nresponsible for any inadvertent error that may have crept into the results being displayed.\\nCopyright © 2023. All Rights Reserved with CGU, BBSR, Odisha,India and https://www.edusols.com/')]"
      ]
     },
     "execution_count": 1,
     "metadata": {},
     "output_type": "execute_result"
    }
   ],
   "source": [
    "from langchain_community.document_loaders import PyPDFLoader\n",
    "loader = PyPDFLoader('C:\\\\LangChain\\\\2101020336 (1).pdf')\n",
    "docs = loader.load()\n",
    "docs"
   ]
  },
  {
   "cell_type": "code",
   "execution_count": 4,
   "id": "35473817",
   "metadata": {},
   "outputs": [
    {
     "data": {
      "text/plain": [
       "langchain_core.documents.base.Document"
      ]
     },
     "execution_count": 4,
     "metadata": {},
     "output_type": "execute_result"
    }
   ],
   "source": [
    "type(docs[0])"
   ]
  },
  {
   "cell_type": "markdown",
   "id": "ea99956f",
   "metadata": {},
   "source": [
    "How to recursively split by character"
   ]
  },
  {
   "cell_type": "code",
   "execution_count": 5,
   "id": "6b457a02",
   "metadata": {},
   "outputs": [
    {
     "data": {
      "text/plain": [
       "[Document(metadata={'producer': 'mPDF 6.0', 'creator': 'PyPDF', 'creationdate': \"20240311155038+00'00'\", 'moddate': \"20240311155038+00'00'\", 'source': 'C:\\\\LangChain\\\\2101020336 (1).pdf', 'total_pages': 5, 'page': 0, 'page_label': '1'}, page_content='C. V. Raman Global University , Bhubaneswar, Odisha, India.\\nwww.cgu-odisha.ac.in.\\n(Formerly C. V. Raman College of Engineering)\\nGRADE SHEET\\nName of the Degree : BTECH\\nSemester : 1st\\nName of the Student : VIDYANSHU KUMAR SINHA\\nBranch/Stream : COMPUTER SCIENCE & ENGINEERING _ARTIFICIAL\\nINTELLIGENCE & MACHINE LEARNING\\nRoll No./Registration No. : 2101020336\\nSl. No. Subject Code Subject Credit Grade\\n1 MTH21101 MATHEMATICS-I 3 B\\n2 UGE23801 DESIGN THINKING AND PROBLEM SOLVING 2 A'),\n",
       " Document(metadata={'producer': 'mPDF 6.0', 'creator': 'PyPDF', 'creationdate': \"20240311155038+00'00'\", 'moddate': \"20240311155038+00'00'\", 'source': 'C:\\\\LangChain\\\\2101020336 (1).pdf', 'total_pages': 5, 'page': 0, 'page_label': '1'}, page_content='3 CSE23201 PROGRAMMING FOR PROBLEM SOLVING 4 E\\n4 EEE23201\\nINTRODUCTION TO ELECTRICAL AND ELECTRONICS\\nENGINEERING 5 B\\n5 MHE23220 ENGINEERING GRAPHICS 4 B\\n6 HSS22001 PROFESSIONAL COMMUNICATION 3 E\\nTotal Credits : 21 SGPA : 7.76\\nCGPA : 7.76\\nNote :\\n1. The Result is Provisional.\\n2. The students interested for retotalling/rechecking only are required to apply on or before --/--/---- positively by paying\\nRs. 200/- per answer script to the University.'),\n",
       " Document(metadata={'producer': 'mPDF 6.0', 'creator': 'PyPDF', 'creationdate': \"20240311155038+00'00'\", 'moddate': \"20240311155038+00'00'\", 'source': 'C:\\\\LangChain\\\\2101020336 (1).pdf', 'total_pages': 5, 'page': 0, 'page_label': '1'}, page_content='Rs. 200/- per answer script to the University.\\n3. Students interested for retotalling/rechecking along with photocopy (ies) of answer script are required to apply on or\\nbefore --/--/---- positively by paying Rs 260/- per answer script to the University..\\n4. As per the provision of the University Grading System \"M\" denotes MALPRACTICE (Grade Point 0), \"S\" denotes\\nABSENT (Grade Point 0), \"FR\" denotes FAIL (Permitted to repeat End Semester Examination, Grade Point 0) and \"XX\"\\ndenotes DETAINED.'),\n",
       " Document(metadata={'producer': 'mPDF 6.0', 'creator': 'PyPDF', 'creationdate': \"20240311155038+00'00'\", 'moddate': \"20240311155038+00'00'\", 'source': 'C:\\\\LangChain\\\\2101020336 (1).pdf', 'total_pages': 5, 'page': 0, 'page_label': '1'}, page_content='denotes DETAINED.\\n5. The CPI shown for the subjects displayed in this page.\\n6. This is system generated document of CGU and it does not need attestation unless there is any specific official\\nrequirement.\\n7. In case of any other grievance in the result,the students may contact: coe@cgu-odisha.ac.in.\\nDisclaimer :\\nThe results published are provisional and subject to change after post publication scrutiny,the institute is not'),\n",
       " Document(metadata={'producer': 'mPDF 6.0', 'creator': 'PyPDF', 'creationdate': \"20240311155038+00'00'\", 'moddate': \"20240311155038+00'00'\", 'source': 'C:\\\\LangChain\\\\2101020336 (1).pdf', 'total_pages': 5, 'page': 0, 'page_label': '1'}, page_content='responsible for any inadvertent error that may have crept into the results being displayed.\\nCopyright © 2023. All Rights Reserved with CGU, BBSR, Odisha,India and https://www.edusols.com/'),\n",
       " Document(metadata={'producer': 'mPDF 6.0', 'creator': 'PyPDF', 'creationdate': \"20240311155038+00'00'\", 'moddate': \"20240311155038+00'00'\", 'source': 'C:\\\\LangChain\\\\2101020336 (1).pdf', 'total_pages': 5, 'page': 1, 'page_label': '2'}, page_content='C. V. Raman Global University , Bhubaneswar, Odisha, India.\\nwww.cgu-odisha.ac.in.\\n(Formerly C. V. Raman College of Engineering)\\nGRADE SHEET\\nName of the Degree : BTECH\\nSemester : 2nd\\nName of the Student : VIDYANSHU KUMAR SINHA\\nBranch/Stream : COMPUTER SCIENCE & ENGINEERING _ARTIFICIAL\\nINTELLIGENCE & MACHINE LEARNING\\nRoll No./Registration No. : 2101020336\\nSl. No. Subject Code Subject Credit Grade\\n1 MTH21102 MATHEMATICS-II 3 B\\n2 HSS21001 ENGINEERING ECONOMICS & COSTING 2 A\\n3 PHY23101 PHYSICS 5 A'),\n",
       " Document(metadata={'producer': 'mPDF 6.0', 'creator': 'PyPDF', 'creationdate': \"20240311155038+00'00'\", 'moddate': \"20240311155038+00'00'\", 'source': 'C:\\\\LangChain\\\\2101020336 (1).pdf', 'total_pages': 5, 'page': 1, 'page_label': '2'}, page_content='3 PHY23101 PHYSICS 5 A\\n4 UGE23802\\nINTELLECTUAL PROPERTY AND\\nENTREPRENEURSHIP 2 A\\n5 HSS22002\\nENGLISH FOR SCIENCE,ENGINEERING &\\nTECHNOLOGY 3 A\\n6 CSE23202 PYTHON PROGRAMMING 5 A\\n7 MHE23210 INTRODUCTION TO MECHANICAL ENGINEERING 5 C\\nTotal Credits : 25 SGPA : 7.48\\nCGPA : 7.61\\nNote :\\n1. The Result is Provisional.\\n2. The students interested for retotalling/rechecking only are required to apply on or before --/--/---- positively by paying\\nRs. 200/- per answer script to the University.'),\n",
       " Document(metadata={'producer': 'mPDF 6.0', 'creator': 'PyPDF', 'creationdate': \"20240311155038+00'00'\", 'moddate': \"20240311155038+00'00'\", 'source': 'C:\\\\LangChain\\\\2101020336 (1).pdf', 'total_pages': 5, 'page': 1, 'page_label': '2'}, page_content='Rs. 200/- per answer script to the University.\\n3. Students interested for retotalling/rechecking along with photocopy (ies) of answer script are required to apply on or\\nbefore --/--/---- positively by paying Rs 260/- per answer script to the University..\\n4. As per the provision of the University Grading System \"M\" denotes MALPRACTICE (Grade Point 0), \"S\" denotes\\nABSENT (Grade Point 0), \"FR\" denotes FAIL (Permitted to repeat End Semester Examination, Grade Point 0) and \"XX\"\\ndenotes DETAINED.'),\n",
       " Document(metadata={'producer': 'mPDF 6.0', 'creator': 'PyPDF', 'creationdate': \"20240311155038+00'00'\", 'moddate': \"20240311155038+00'00'\", 'source': 'C:\\\\LangChain\\\\2101020336 (1).pdf', 'total_pages': 5, 'page': 1, 'page_label': '2'}, page_content='denotes DETAINED.\\n5. The CPI shown for the subjects displayed in this page.\\n6. This is system generated document of CGU and it does not need attestation unless there is any specific official\\nrequirement.\\n7. In case of any other grievance in the result,the students may contact: coe@cgu-odisha.ac.in.\\nDisclaimer :\\nThe results published are provisional and subject to change after post publication scrutiny,the institute is not'),\n",
       " Document(metadata={'producer': 'mPDF 6.0', 'creator': 'PyPDF', 'creationdate': \"20240311155038+00'00'\", 'moddate': \"20240311155038+00'00'\", 'source': 'C:\\\\LangChain\\\\2101020336 (1).pdf', 'total_pages': 5, 'page': 1, 'page_label': '2'}, page_content='responsible for any inadvertent error that may have crept into the results being displayed.\\nCopyright © 2023. All Rights Reserved with CGU, BBSR, Odisha,India and https://www.edusols.com/'),\n",
       " Document(metadata={'producer': 'mPDF 6.0', 'creator': 'PyPDF', 'creationdate': \"20240311155038+00'00'\", 'moddate': \"20240311155038+00'00'\", 'source': 'C:\\\\LangChain\\\\2101020336 (1).pdf', 'total_pages': 5, 'page': 2, 'page_label': '3'}, page_content='C. V. Raman Global University , Bhubaneswar, Odisha, India.\\nwww.cgu-odisha.ac.in.\\n(Formerly C. V. Raman College of Engineering)\\nGRADE SHEET\\nName of the Degree : BTECH\\nSemester : 3rd\\nName of the Student : VIDYANSHU KUMAR SINHA\\nBranch/Stream : COMPUTER SCIENCE & ENGINEERING _ARTIFICIAL\\nINTELLIGENCE & MACHINE LEARNING\\nRoll No./Registration No. : 2101020336\\nSl. No. Subject Code Subject Credit Grade\\n1 CSE21303 PROGRAMMING USING C++ 2 D\\n2 ECE21201 SWITCHING CIRCUIT & LOGIC DESIGN 3 B'),\n",
       " Document(metadata={'producer': 'mPDF 6.0', 'creator': 'PyPDF', 'creationdate': \"20240311155038+00'00'\", 'moddate': \"20240311155038+00'00'\", 'source': 'C:\\\\LangChain\\\\2101020336 (1).pdf', 'total_pages': 5, 'page': 2, 'page_label': '3'}, page_content='2 ECE21201 SWITCHING CIRCUIT & LOGIC DESIGN 3 B\\n3 MTH21105 DISCRETE MATHEMATICS 3 D\\n4 UGE21102 EMERGING MATERIAL AND IT’S APPLICATIONS. 2 E\\n5 SDE23737 CCNA-I 2 O\\n6 CSE23305 DATA COMMUNICATION & COMPUTER NETWORK 5 B\\n7 CSE23304 DATA STRUCTURES 5 D\\nTotal Credits : 22 SGPA : 6.55\\nCGPA : 7.26\\nNote :\\n1. The Result is Provisional.\\n2. The students interested for retotalling/rechecking only are required to apply on or before --/--/---- positively by paying\\nRs. 200/- per answer script to the University.'),\n",
       " Document(metadata={'producer': 'mPDF 6.0', 'creator': 'PyPDF', 'creationdate': \"20240311155038+00'00'\", 'moddate': \"20240311155038+00'00'\", 'source': 'C:\\\\LangChain\\\\2101020336 (1).pdf', 'total_pages': 5, 'page': 2, 'page_label': '3'}, page_content='Rs. 200/- per answer script to the University.\\n3. Students interested for retotalling/rechecking along with photocopy (ies) of answer script are required to apply on or\\nbefore --/--/---- positively by paying Rs 260/- per answer script to the University..\\n4. As per the provision of the University Grading System \"M\" denotes MALPRACTICE (Grade Point 0), \"S\" denotes\\nABSENT (Grade Point 0), \"FR\" denotes FAIL (Permitted to repeat End Semester Examination, Grade Point 0) and \"XX\"\\ndenotes DETAINED.'),\n",
       " Document(metadata={'producer': 'mPDF 6.0', 'creator': 'PyPDF', 'creationdate': \"20240311155038+00'00'\", 'moddate': \"20240311155038+00'00'\", 'source': 'C:\\\\LangChain\\\\2101020336 (1).pdf', 'total_pages': 5, 'page': 2, 'page_label': '3'}, page_content='denotes DETAINED.\\n5. The CPI shown for the subjects displayed in this page.\\n6. This is system generated document of CGU and it does not need attestation unless there is any specific official\\nrequirement.\\n7. In case of any other grievance in the result,the students may contact: coe@cgu-odisha.ac.in.\\nDisclaimer :\\nThe results published are provisional and subject to change after post publication scrutiny,the institute is not'),\n",
       " Document(metadata={'producer': 'mPDF 6.0', 'creator': 'PyPDF', 'creationdate': \"20240311155038+00'00'\", 'moddate': \"20240311155038+00'00'\", 'source': 'C:\\\\LangChain\\\\2101020336 (1).pdf', 'total_pages': 5, 'page': 2, 'page_label': '3'}, page_content='responsible for any inadvertent error that may have crept into the results being displayed.\\nCopyright © 2023. All Rights Reserved with CGU, BBSR, Odisha,India and https://www.edusols.com/'),\n",
       " Document(metadata={'producer': 'mPDF 6.0', 'creator': 'PyPDF', 'creationdate': \"20240311155038+00'00'\", 'moddate': \"20240311155038+00'00'\", 'source': 'C:\\\\LangChain\\\\2101020336 (1).pdf', 'total_pages': 5, 'page': 3, 'page_label': '4'}, page_content='C. V. Raman Global University , Bhubaneswar, Odisha, India.\\nwww.cgu-odisha.ac.in.\\n(Formerly C. V. Raman College of Engineering)\\nGRADE SHEET\\nName of the Degree : BTECH\\nSemester : 4th\\nName of the Student : VIDYANSHU KUMAR SINHA\\nBranch/Stream : COMPUTER SCIENCE & ENGINEERING _ARTIFICIAL\\nINTELLIGENCE & MACHINE LEARNING\\nRoll No./Registration No. : 2101020336\\nSl. No. Subject Code Subject Credit Grade\\n1 CSE21308 COMPUTER ORGANIZATION 3 C\\n2 UGE21101 LIVING BIOLOGY AND ENVIRONMENTAL SCIENCE 2 B'),\n",
       " Document(metadata={'producer': 'mPDF 6.0', 'creator': 'PyPDF', 'creationdate': \"20240311155038+00'00'\", 'moddate': \"20240311155038+00'00'\", 'source': 'C:\\\\LangChain\\\\2101020336 (1).pdf', 'total_pages': 5, 'page': 3, 'page_label': '4'}, page_content='3 SDE23738 CCNA-II 2 E\\n4 CSE23307 DESIGN & ANALYSIS OF ALGORITHM 5 B\\n5 CSE23309 OBJECT ORIENTED PROGRAMMING USING JAVA 5 B\\n6 CSE23306 DATABASE ENGINEERING 5 A\\nTotal Credits : 22 SGPA : 7.27\\nCGPA : 7.27\\nNote :\\n1. The Result is Provisional.\\n2. The students interested for retotalling/rechecking only are required to apply on or before --/--/---- positively by paying\\nRs. 200/- per answer script to the University.'),\n",
       " Document(metadata={'producer': 'mPDF 6.0', 'creator': 'PyPDF', 'creationdate': \"20240311155038+00'00'\", 'moddate': \"20240311155038+00'00'\", 'source': 'C:\\\\LangChain\\\\2101020336 (1).pdf', 'total_pages': 5, 'page': 3, 'page_label': '4'}, page_content='Rs. 200/- per answer script to the University.\\n3. Students interested for retotalling/rechecking along with photocopy (ies) of answer script are required to apply on or\\nbefore --/--/---- positively by paying Rs 260/- per answer script to the University..\\n4. As per the provision of the University Grading System \"M\" denotes MALPRACTICE (Grade Point 0), \"S\" denotes\\nABSENT (Grade Point 0), \"FR\" denotes FAIL (Permitted to repeat End Semester Examination, Grade Point 0) and \"XX\"\\ndenotes DETAINED.'),\n",
       " Document(metadata={'producer': 'mPDF 6.0', 'creator': 'PyPDF', 'creationdate': \"20240311155038+00'00'\", 'moddate': \"20240311155038+00'00'\", 'source': 'C:\\\\LangChain\\\\2101020336 (1).pdf', 'total_pages': 5, 'page': 3, 'page_label': '4'}, page_content='denotes DETAINED.\\n5. The CPI shown for the subjects displayed in this page.\\n6. This is system generated document of CGU and it does not need attestation unless there is any specific official\\nrequirement.\\n7. In case of any other grievance in the result,the students may contact: coe@cgu-odisha.ac.in.\\nDisclaimer :\\nThe results published are provisional and subject to change after post publication scrutiny,the institute is not'),\n",
       " Document(metadata={'producer': 'mPDF 6.0', 'creator': 'PyPDF', 'creationdate': \"20240311155038+00'00'\", 'moddate': \"20240311155038+00'00'\", 'source': 'C:\\\\LangChain\\\\2101020336 (1).pdf', 'total_pages': 5, 'page': 3, 'page_label': '4'}, page_content='responsible for any inadvertent error that may have crept into the results being displayed.\\nCopyright © 2023. All Rights Reserved with CGU, BBSR, Odisha,India and https://www.edusols.com/'),\n",
       " Document(metadata={'producer': 'mPDF 6.0', 'creator': 'PyPDF', 'creationdate': \"20240311155038+00'00'\", 'moddate': \"20240311155038+00'00'\", 'source': 'C:\\\\LangChain\\\\2101020336 (1).pdf', 'total_pages': 5, 'page': 4, 'page_label': '5'}, page_content='C. V. Raman Global University , Bhubaneswar, Odisha, India.\\nwww.cgu-odisha.ac.in.\\n(Formerly C. V. Raman College of Engineering)\\nGRADE SHEET\\nName of the Degree : BTECH\\nSemester : 5th\\nName of the Student : VIDYANSHU KUMAR SINHA\\nBranch/Stream : COMPUTER SCIENCE & ENGINEERING _ARTIFICIAL\\nINTELLIGENCE & MACHINE LEARNING\\nRoll No./Registration No. : 2101020336\\nSl. No. Subject Code Subject Credit Grade\\n1 CSE21317 SOFTWARE ENGINEERING & AGILE METHODOLOGY 3 A\\n2 UGE23811 ENVIRONMENTAL STUDIES 1 E'),\n",
       " Document(metadata={'producer': 'mPDF 6.0', 'creator': 'PyPDF', 'creationdate': \"20240311155038+00'00'\", 'moddate': \"20240311155038+00'00'\", 'source': 'C:\\\\LangChain\\\\2101020336 (1).pdf', 'total_pages': 5, 'page': 4, 'page_label': '5'}, page_content='2 UGE23811 ENVIRONMENTAL STUDIES 1 E\\n3 CSE23317 MACHINE LEARNING 5 A\\n4 CSE23312 OPERATING SYSTEM 5 A\\n5 CSE23440 CRYPTOGRAPHY & NETWORK SECURITY 5 B\\n6 SDE23761 UX DESIGN 2 S\\nTotal Credits : 21 SGPA : 7.05\\nCGPA : 7.76\\nNote :\\n1. The Result is Provisional.\\n2. The students interested for retotalling/rechecking only are required to apply on or before --/--/---- positively by paying\\nRs. 200/- per answer script to the University.'),\n",
       " Document(metadata={'producer': 'mPDF 6.0', 'creator': 'PyPDF', 'creationdate': \"20240311155038+00'00'\", 'moddate': \"20240311155038+00'00'\", 'source': 'C:\\\\LangChain\\\\2101020336 (1).pdf', 'total_pages': 5, 'page': 4, 'page_label': '5'}, page_content='Rs. 200/- per answer script to the University.\\n3. Students interested for retotalling/rechecking along with photocopy (ies) of answer script are required to apply on or\\nbefore --/--/---- positively by paying Rs 260/- per answer script to the University..\\n4. As per the provision of the University Grading System \"M\" denotes MALPRACTICE (Grade Point 0), \"S\" denotes\\nABSENT (Grade Point 0), \"FR\" denotes FAIL (Permitted to repeat End Semester Examination, Grade Point 0) and \"XX\"\\ndenotes DETAINED.'),\n",
       " Document(metadata={'producer': 'mPDF 6.0', 'creator': 'PyPDF', 'creationdate': \"20240311155038+00'00'\", 'moddate': \"20240311155038+00'00'\", 'source': 'C:\\\\LangChain\\\\2101020336 (1).pdf', 'total_pages': 5, 'page': 4, 'page_label': '5'}, page_content='denotes DETAINED.\\n5. The CPI shown for the subjects displayed in this page.\\n6. This is system generated document of CGU and it does not need attestation unless there is any specific official\\nrequirement.\\n7. In case of any other grievance in the result,the students may contact: coe@cgu-odisha.ac.in.\\nDisclaimer :\\nThe results published are provisional and subject to change after post publication scrutiny,the institute is not'),\n",
       " Document(metadata={'producer': 'mPDF 6.0', 'creator': 'PyPDF', 'creationdate': \"20240311155038+00'00'\", 'moddate': \"20240311155038+00'00'\", 'source': 'C:\\\\LangChain\\\\2101020336 (1).pdf', 'total_pages': 5, 'page': 4, 'page_label': '5'}, page_content='responsible for any inadvertent error that may have crept into the results being displayed.\\nCopyright © 2023. All Rights Reserved with CGU, BBSR, Odisha,India and https://www.edusols.com/')]"
      ]
     },
     "execution_count": 5,
     "metadata": {},
     "output_type": "execute_result"
    }
   ],
   "source": [
    "from langchain_text_splitters import RecursiveCharacterTextSplitter\n",
    "text_splitter = RecursiveCharacterTextSplitter(chunk_size=500, chunk_overlap=50)\n",
    "final_documents=text_splitter.split_documents(docs)\n",
    "final_documents"
   ]
  },
  {
   "cell_type": "code",
   "execution_count": 6,
   "id": "243a8447",
   "metadata": {},
   "outputs": [
    {
     "name": "stdout",
     "output_type": "stream",
     "text": [
      "page_content='C. V. Raman Global University , Bhubaneswar, Odisha, India.\n",
      "www.cgu-odisha.ac.in.\n",
      "(Formerly C. V. Raman College of Engineering)\n",
      "GRADE SHEET\n",
      "Name of the Degree : BTECH\n",
      "Semester : 1st\n",
      "Name of the Student : VIDYANSHU KUMAR SINHA\n",
      "Branch/Stream : COMPUTER SCIENCE & ENGINEERING _ARTIFICIAL\n",
      "INTELLIGENCE & MACHINE LEARNING\n",
      "Roll No./Registration No. : 2101020336\n",
      "Sl. No. Subject Code Subject Credit Grade\n",
      "1 MTH21101 MATHEMATICS-I 3 B\n",
      "2 UGE23801 DESIGN THINKING AND PROBLEM SOLVING 2 A' metadata={'producer': 'mPDF 6.0', 'creator': 'PyPDF', 'creationdate': \"20240311155038+00'00'\", 'moddate': \"20240311155038+00'00'\", 'source': 'C:\\\\LangChain\\\\2101020336 (1).pdf', 'total_pages': 5, 'page': 0, 'page_label': '1'}\n",
      "page_content='3 CSE23201 PROGRAMMING FOR PROBLEM SOLVING 4 E\n",
      "4 EEE23201\n",
      "INTRODUCTION TO ELECTRICAL AND ELECTRONICS\n",
      "ENGINEERING 5 B\n",
      "5 MHE23220 ENGINEERING GRAPHICS 4 B\n",
      "6 HSS22001 PROFESSIONAL COMMUNICATION 3 E\n",
      "Total Credits : 21 SGPA : 7.76\n",
      "CGPA : 7.76\n",
      "Note :\n",
      "1. The Result is Provisional.\n",
      "2. The students interested for retotalling/rechecking only are required to apply on or before --/--/---- positively by paying\n",
      "Rs. 200/- per answer script to the University.' metadata={'producer': 'mPDF 6.0', 'creator': 'PyPDF', 'creationdate': \"20240311155038+00'00'\", 'moddate': \"20240311155038+00'00'\", 'source': 'C:\\\\LangChain\\\\2101020336 (1).pdf', 'total_pages': 5, 'page': 0, 'page_label': '1'}\n"
     ]
    }
   ],
   "source": [
    "print(final_documents[0])\n",
    "print(final_documents[1])"
   ]
  },
  {
   "cell_type": "code",
   "execution_count": 1,
   "id": "9df22407",
   "metadata": {},
   "outputs": [
    {
     "data": {
      "text/plain": [
       "[Document(metadata={'source': 'speech.txt'}, page_content='Nigatana Gokuda....i love to watch this anime.\\nit was childhood anime which was use t watch in my childhood days.\\n')]"
      ]
     },
     "execution_count": 1,
     "metadata": {},
     "output_type": "execute_result"
    }
   ],
   "source": [
    "from langchain_community.document_loaders import TextLoader\n",
    "loader  = TextLoader('speech.txt')\n",
    "docs = loader.load()\n",
    "docs"
   ]
  },
  {
   "cell_type": "code",
   "execution_count": 6,
   "id": "2e61e2d3",
   "metadata": {},
   "outputs": [
    {
     "name": "stdout",
     "output_type": "stream",
     "text": [
      "page_content='Nigatana Gokuda....i love'\n",
      "page_content='love to watch this'\n"
     ]
    }
   ],
   "source": [
    "from langchain_text_splitters import RecursiveCharacterTextSplitter\n",
    "speech=\" \"\n",
    "with open('speech.txt') as f:\n",
    "    speech=f.read()\n",
    "speech\n",
    "\n",
    "text_splitter = RecursiveCharacterTextSplitter(chunk_size=25, chunk_overlap=15)\n",
    "text=text_splitter.create_documents([speech])\n",
    "print(text[0])\n",
    "print(text[1])"
   ]
  },
  {
   "cell_type": "code",
   "execution_count": 7,
   "id": "23c4bf61",
   "metadata": {},
   "outputs": [
    {
     "data": {
      "text/plain": [
       "langchain_core.documents.base.Document"
      ]
     },
     "execution_count": 7,
     "metadata": {},
     "output_type": "execute_result"
    }
   ],
   "source": [
    "type(text[0])"
   ]
  }
 ],
 "metadata": {
  "kernelspec": {
   "display_name": "venv",
   "language": "python",
   "name": "python3"
  },
  "language_info": {
   "codemirror_mode": {
    "name": "ipython",
    "version": 3
   },
   "file_extension": ".py",
   "mimetype": "text/x-python",
   "name": "python",
   "nbconvert_exporter": "python",
   "pygments_lexer": "ipython3",
   "version": "3.12.0"
  }
 },
 "nbformat": 4,
 "nbformat_minor": 5
}
