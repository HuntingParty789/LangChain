{
 "cells": [
  {
   "cell_type": "markdown",
   "id": "ccf3cf10",
   "metadata": {},
   "source": [
    "Chroma\n",
    "\n",
    "Chroma is a AI-native open-source vectors database focused on developer productivity and happiness. Chroma is licensed under Apache 2.0.\n",
    "\n",
    "morevector Dataases:\n",
    "https://github.com/VectorDatabases/awesome-vector-databases"
   ]
  },
  {
   "cell_type": "code",
   "execution_count": 2,
   "id": "025bae71",
   "metadata": {},
   "outputs": [],
   "source": [
    "## building a sample vectordb\n",
    "from langchain_chroma import Chroma\n",
    "from langchain_community.document_loaders import TextLoader\n",
    "from langchain_community.embeddings import OllamaEmbeddings\n",
    "from langchain_text_splitters import RecursiveCharacterTextSplitter\n"
   ]
  },
  {
   "cell_type": "code",
   "execution_count": 3,
   "id": "f008a05b",
   "metadata": {},
   "outputs": [
    {
     "data": {
      "text/plain": [
       "[Document(metadata={'source': 'speech.txt'}, page_content='Nigatana Gokuda....i love to watch this anime.\\nit was childhood anime which was use t watch in my childhood days.\\n')]"
      ]
     },
     "execution_count": 3,
     "metadata": {},
     "output_type": "execute_result"
    }
   ],
   "source": [
    "loader = TextLoader(\"speech.txt\")\n",
    "data = loader.load()\n",
    "data"
   ]
  },
  {
   "cell_type": "code",
   "execution_count": 4,
   "id": "6ce669de",
   "metadata": {},
   "outputs": [],
   "source": [
    "#split\n",
    "text_splitter = RecursiveCharacterTextSplitter(chunk_size=20,chunk_overlap=10)\n",
    "splits = text_splitter.split_documents(data)"
   ]
  },
  {
   "cell_type": "code",
   "execution_count": 6,
   "id": "e2c62ed1",
   "metadata": {},
   "outputs": [
    {
     "name": "stderr",
     "output_type": "stream",
     "text": [
      "C:\\Users\\vidya\\AppData\\Local\\Temp\\ipykernel_43884\\3368680621.py:1: LangChainDeprecationWarning: The class `OllamaEmbeddings` was deprecated in LangChain 0.3.1 and will be removed in 1.0.0. An updated version of the class exists in the :class:`~langchain-ollama package and should be used instead. To use it run `pip install -U :class:`~langchain-ollama` and import as `from :class:`~langchain_ollama import OllamaEmbeddings``.\n",
      "  embedding = OllamaEmbeddings()\n"
     ]
    },
    {
     "data": {
      "text/plain": [
       "<langchain_chroma.vectorstores.Chroma at 0x29233104e60>"
      ]
     },
     "execution_count": 6,
     "metadata": {},
     "output_type": "execute_result"
    }
   ],
   "source": [
    "embedding = OllamaEmbeddings()\n",
    "vectordb = Chroma.from_documents(documents=splits, embedding=embedding)\n",
    "vectordb"
   ]
  },
  {
   "cell_type": "code",
   "execution_count": 8,
   "id": "d6509e22",
   "metadata": {},
   "outputs": [
    {
     "data": {
      "text/plain": [
       "[Document(id='7dadba87-3d5a-4828-b33c-da58ef1a8f4f', metadata={'source': 'speech.txt'}, page_content='childhood anime'),\n",
       " Document(id='8e93d65a-554b-40ca-9457-04ca9bed4b0f', metadata={'source': 'speech.txt'}, page_content='watch in my'),\n",
       " Document(id='b7084216-3c80-45ac-8f89-2463aa548cfc', metadata={'source': 'speech.txt'}, page_content='it was childhood'),\n",
       " Document(id='a62ec20e-b8e9-4306-9568-86813450dac0', metadata={'source': 'speech.txt'}, page_content='in my childhood')]"
      ]
     },
     "execution_count": 8,
     "metadata": {},
     "output_type": "execute_result"
    }
   ],
   "source": [
    "## Query it\n",
    "query = \"who is goku\"\n",
    "docs=vectordb.similarity_search(query)\n",
    "docs"
   ]
  },
  {
   "cell_type": "code",
   "execution_count": 14,
   "id": "1ce9fb56",
   "metadata": {},
   "outputs": [],
   "source": [
    "vectordb = Chroma.from_documents(documents=splits, embedding=embedding, persist_directory=\"chroma_db\")"
   ]
  },
  {
   "cell_type": "code",
   "execution_count": null,
   "id": "f7e8c88d",
   "metadata": {},
   "outputs": [],
   "source": [
    "db2 = Chroma(persist_directory=\"chroma_db\", embedding_function=embedding)\n",
    "docs = db2.similarity_search(query)\n",
    "print(docs[0].page_content)\n"
   ]
  },
  {
   "cell_type": "code",
   "execution_count": 12,
   "id": "f9268847",
   "metadata": {},
   "outputs": [
    {
     "name": "stderr",
     "output_type": "stream",
     "text": [
      "C:\\Users\\vidya\\AppData\\Local\\Temp\\ipykernel_43884\\3380644179.py:1: UserWarning: Relevance scores must be between 0 and 1, got [(Document(id='7dadba87-3d5a-4828-b33c-da58ef1a8f4f', metadata={'source': 'speech.txt'}, page_content='childhood anime'), -11283.899421923135), (Document(id='8e93d65a-554b-40ca-9457-04ca9bed4b0f', metadata={'source': 'speech.txt'}, page_content='watch in my'), -11406.048665703282), (Document(id='b7084216-3c80-45ac-8f89-2463aa548cfc', metadata={'source': 'speech.txt'}, page_content='it was childhood'), -12562.22832939833), (Document(id='a62ec20e-b8e9-4306-9568-86813450dac0', metadata={'source': 'speech.txt'}, page_content='in my childhood'), -12837.964066294851)]\n",
      "  docs = vectordb.similarity_search_with_relevance_scores(query)\n"
     ]
    },
    {
     "data": {
      "text/plain": [
       "[(Document(id='7dadba87-3d5a-4828-b33c-da58ef1a8f4f', metadata={'source': 'speech.txt'}, page_content='childhood anime'),\n",
       "  -11283.899421923135),\n",
       " (Document(id='8e93d65a-554b-40ca-9457-04ca9bed4b0f', metadata={'source': 'speech.txt'}, page_content='watch in my'),\n",
       "  -11406.048665703282),\n",
       " (Document(id='b7084216-3c80-45ac-8f89-2463aa548cfc', metadata={'source': 'speech.txt'}, page_content='it was childhood'),\n",
       "  -12562.22832939833),\n",
       " (Document(id='a62ec20e-b8e9-4306-9568-86813450dac0', metadata={'source': 'speech.txt'}, page_content='in my childhood'),\n",
       "  -12837.964066294851)]"
      ]
     },
     "execution_count": 12,
     "metadata": {},
     "output_type": "execute_result"
    }
   ],
   "source": [
    "docs = vectordb.similarity_search_with_relevance_scores(query)\n",
    "docs"
   ]
  },
  {
   "cell_type": "code",
   "execution_count": 15,
   "id": "1ce49529",
   "metadata": {},
   "outputs": [
    {
     "data": {
      "text/plain": [
       "'childhood anime'"
      ]
     },
     "execution_count": 15,
     "metadata": {},
     "output_type": "execute_result"
    }
   ],
   "source": [
    "## retriever option\n",
    "retriever = vectordb.as_retriever()\n",
    "retriever.invoke(query)[0].page_content"
   ]
  }
 ],
 "metadata": {
  "kernelspec": {
   "display_name": "venv",
   "language": "python",
   "name": "python3"
  },
  "language_info": {
   "codemirror_mode": {
    "name": "ipython",
    "version": 3
   },
   "file_extension": ".py",
   "mimetype": "text/x-python",
   "name": "python",
   "nbconvert_exporter": "python",
   "pygments_lexer": "ipython3",
   "version": "3.12.0"
  }
 },
 "nbformat": 4,
 "nbformat_minor": 5
}
