{
 "cells": [
  {
   "cell_type": "markdown",
   "id": "b102d1c0",
   "metadata": {},
   "source": [
    "HTMLHeaderTextSplitter is a \"Structure-aware\" chunker that splits text at the HTML element level and adds metadata for each header \"relevant\" to any given chunk. It can return chunks element or combine elements with the same metedata, with the objectives of (a) keeping related text grouped (more or less)\n",
    "semanically and (b) preserving context-rich information encoded in document structures. It can be used with other text splitter as part of a chunking pipeline."
   ]
  },
  {
   "cell_type": "code",
   "execution_count": 2,
   "id": "5a506846",
   "metadata": {},
   "outputs": [
    {
     "data": {
      "text/plain": [
       "[Document(metadata={}, page_content='Foo Bar Main Section  \\nSome intro about Foo Bar.'),\n",
       " Document(metadata={'Header 1': 'Header One'}, page_content='Header One'),\n",
       " Document(metadata={'Header 1': 'Header One'}, page_content='Paragraph under header one.'),\n",
       " Document(metadata={'Header 1': 'Header One', 'Header 2': 'Header Two'}, page_content='Header Two'),\n",
       " Document(metadata={'Header 1': 'Header One', 'Header 2': 'Header Two'}, page_content='Paragraph under header two.'),\n",
       " Document(metadata={'Header 1': 'Header One', 'Header 2': 'Header Two', 'Header 3': 'Header Three'}, page_content='Header Three'),\n",
       " Document(metadata={'Header 1': 'Header One', 'Header 2': 'Header Two', 'Header 3': 'Header Three'}, page_content='Paragraph under header three.')]"
      ]
     },
     "execution_count": 2,
     "metadata": {},
     "output_type": "execute_result"
    }
   ],
   "source": [
    "from langchain_text_splitters import HTMLHeaderTextSplitter\n",
    "html_string = \"\"\"\n",
    "<!DOCTYPE html>\n",
    "<html>\n",
    "<body>\n",
    "    <header>Foo Bar Main Section</header>\n",
    "    <p>Some intro about Foo Bar.</p>\n",
    "    <div>\n",
    "        <h1>Header One</h1>\n",
    "        <p>Paragraph under header one.</p>\n",
    "        <h2>Header Two</h2>\n",
    "        <p>Paragraph under header two.</p>\n",
    "        <h3>Header Three</h3>\n",
    "        <p>Paragraph under header three.</p>\n",
    "        <br>\n",
    "    </div>\n",
    "</body>\n",
    "</html>\n",
    "\"\"\"\n",
    "headers_to_split_on=[\n",
    "    (\"h1\", \"Header 1\"),\n",
    "    (\"h2\", \"Header 2\"),\n",
    "    (\"h3\", \"Header 3\")\n",
    "]\n",
    "html_splitter = HTMLHeaderTextSplitter(headers_to_split_on=headers_to_split_on)\n",
    "html_header_splits = html_splitter.split_text(html_string)\n",
    "html_header_splits"
   ]
  },
  {
   "cell_type": "code",
   "execution_count": 5,
   "id": "61c7d4b9",
   "metadata": {},
   "outputs": [
    {
     "name": "stderr",
     "output_type": "stream",
     "text": [
      "c:\\LangChain\\venv\\Lib\\site-packages\\langchain_text_splitters\\html.py:202: MarkupResemblesLocatorWarning: The input passed in on this line looks more like a URL than HTML or XML.\n",
      "\n",
      "If you meant to use Beautiful Soup to parse the web page found at a certain URL, then something has gone wrong. You should use an Python package like 'requests' to fetch the content behind the URL. Once you have the content as a string, you can feed that string into Beautiful Soup.\n",
      "\n",
      "However, if you want to parse some data that happens to look like a URL, then nothing has gone wrong: you are using Beautiful Soup correctly, and this warning is spurious and can be filtered. To make this warning go away, run this code before calling the BeautifulSoup constructor:\n",
      "\n",
      "    from bs4 import MarkupResemblesLocatorWarning\n",
      "    import warnings\n",
      "\n",
      "    warnings.filterwarnings(\"ignore\", category=MarkupResemblesLocatorWarning)\n",
      "    \n",
      "  soup = BeautifulSoup(html_content, \"html.parser\")\n"
     ]
    },
    {
     "data": {
      "text/plain": [
       "[Document(metadata={}, page_content='https://www.educative.io/courses/rest-api-python-microsoft-azure')]"
      ]
     },
     "execution_count": 5,
     "metadata": {},
     "output_type": "execute_result"
    }
   ],
   "source": [
    "url =\"https://www.educative.io/courses/rest-api-python-microsoft-azure\"\n",
    "\n",
    "headers_to_split_on=[\n",
    "    (\"h1\", \"Header 1\"),\n",
    "    (\"h2\", \"Header 2\"),\n",
    "    (\"h3\", \"Header 3\")\n",
    "]\n",
    "html_splitter = HTMLHeaderTextSplitter(headers_to_split_on=headers_to_split_on)\n",
    "html_header_splits = html_splitter.split_text(url)\n",
    "html_header_splits"
   ]
  }
 ],
 "metadata": {
  "kernelspec": {
   "display_name": "venv",
   "language": "python",
   "name": "python3"
  },
  "language_info": {
   "codemirror_mode": {
    "name": "ipython",
    "version": 3
   },
   "file_extension": ".py",
   "mimetype": "text/x-python",
   "name": "python",
   "nbconvert_exporter": "python",
   "pygments_lexer": "ipython3",
   "version": "3.12.0"
  }
 },
 "nbformat": 4,
 "nbformat_minor": 5
}
